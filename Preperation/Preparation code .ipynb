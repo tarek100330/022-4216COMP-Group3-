{
 "cells": [
  {
   "cell_type": "code",
   "execution_count": 3,
   "id": "4082bd95",
   "metadata": {
    "collapsed": true
   },
   "outputs": [
    {
     "data": {
      "text/plain": [
       "Date                                                                               object\n",
       "Number of New Positive Cases in Last 24 Hrs                                         int64\n",
       "Total Number of Positive Cases to Date                                              int64\n",
       "Number of New Tests in Last 24 Hrs                                                  int64\n",
       "Total Number of Tests to Date                                                       int64\n",
       "Total Number of Active Cases Undergoing Treatment to Date                           int64\n",
       "Number of New Recovered Cases in Last 24 Hrs                                        int64\n",
       "Total Number of Recovered Cases to Date                                             int64\n",
       "Number of New Deaths in Last 24 Hrs                                                 int64\n",
       "Total Number of Deaths to Date                                                      int64\n",
       "Total Number of Acute Cases under Hospital Treatment                              float64\n",
       "Number of New Acute Hospital Admissions in Last 24 Hrs                            float64\n",
       "Total Number of Cases under ICU Treatment                                         float64\n",
       "Number of New ICU Admissions in Last 24 Hrs                                       float64\n",
       "Total Number of Vaccine Doses Administered in Last 24 Hrs                         float64\n",
       "Total Number of Vaccine Doses Administered Since Start of Vaccination Campaign    float64\n",
       "dtype: object"
      ]
     },
     "execution_count": 3,
     "metadata": {},
     "output_type": "execute_result"
    }
   ],
   "source": [
    "import pandas as pd \n",
    "df = pd.read_csv('covid-19-cases-in-qatar-datesSorted.csv') # reading the csv dataset into a dataframe\n",
    "df.dtypes"
   ]
  },
  {
   "cell_type": "code",
   "execution_count": 1,
   "id": "e7ebae38",
   "metadata": {},
   "outputs": [],
   "source": [
    "# this will check for null vallues in the dataset\n",
    "df.isnull().sum()/607*100 # in percentage\n",
    "\n",
    "df.pop('Total Number of Acute Cases under Hospital Treatment')\n",
    "df.pop('Number of New Acute Hospital Admissions in Last 24 Hrs')\n",
    "df.pop('Total Number of Cases under ICU Treatment')\n",
    "df.pop('Number of New ICU Admissions in Last 24 Hrs')\n",
    "\n",
    "df. columns = ['Date', 'Cases_perDay', 'Cumulative_Cases', 'Tests_perDay', 'Cumulative_tests', 'Cumulative_cases_under_treatment', \n",
    "               'Recovered_perDay','Cumulative_recovered_cases', 'Deaths_perDay', 'Cumulative_deaths', 'Vaccines_perDay',\n",
    "               'Cumulative_vaccines_administered']"
   ]
  }
 ],
 "metadata": {
  "kernelspec": {
   "display_name": "Python 3 (ipykernel)",
   "language": "python",
   "name": "python3"
  },
  "language_info": {
   "codemirror_mode": {
    "name": "ipython",
    "version": 3
   },
   "file_extension": ".py",
   "mimetype": "text/x-python",
   "name": "python",
   "nbconvert_exporter": "python",
   "pygments_lexer": "ipython3",
   "version": "3.9.7"
  }
 },
 "nbformat": 4,
 "nbformat_minor": 5
}
